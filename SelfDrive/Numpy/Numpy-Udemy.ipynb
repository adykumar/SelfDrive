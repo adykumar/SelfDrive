{
 "cells": [
  {
   "cell_type": "markdown",
   "metadata": {},
   "source": [
    "### Basic Numpy Intro ###"
   ]
  },
  {
   "cell_type": "code",
   "execution_count": 6,
   "metadata": {},
   "outputs": [
    {
     "name": "stdout",
     "output_type": "stream",
     "text": [
      "[2, 12, 36]\n"
     ]
    }
   ],
   "source": [
    "import numpy as np\n",
    "\n",
    "list_two= list(range(1,4))\n",
    "list_three= list(range(1,4))\n",
    "list_sum= []\n",
    "\n",
    "for index in range(3):\n",
    "    list_two[index]= list_two[index] ** 2\n",
    "    list_three[index]= list_three[index] ** 3\n",
    "    list_sum.append(list_two[index]+list_three[index])\n",
    "print (list_sum)"
   ]
  },
  {
   "cell_type": "code",
   "execution_count": 10,
   "metadata": {},
   "outputs": [
    {
     "name": "stdout",
     "output_type": "stream",
     "text": [
      "[ 2 12 36]\n"
     ]
    }
   ],
   "source": [
    "array2= np.arange(1,4) ** 2\n",
    "array3= np.arange(1,4) ** 3\n",
    "print (array2+array3)"
   ]
  },
  {
   "cell_type": "markdown",
   "metadata": {},
   "source": [
    "### MULTI DIMENSIONAL arrays ###"
   ]
  },
  {
   "cell_type": "code",
   "execution_count": 6,
   "metadata": {},
   "outputs": [
    {
     "name": "stdout",
     "output_type": "stream",
     "text": [
      "[[0 1 2]\n",
      " [0 1 2]\n",
      " [0 1 2]]\n",
      "(3, 3)\n"
     ]
    }
   ],
   "source": [
    "import numpy as np\n",
    "x= np.arange(0,3)\n",
    "y= np.arange(0,3)\n",
    "z= np.arange(0,3)\n",
    "multi= np.array([x,y,z])\n",
    "print(multi)\n",
    "print(multi.shape)"
   ]
  },
  {
   "cell_type": "code",
   "execution_count": 7,
   "metadata": {},
   "outputs": [
    {
     "name": "stdout",
     "output_type": "stream",
     "text": [
      "[ 1.          1.47368421  1.94736842  2.42105263  2.89473684  3.36842105\n",
      "  3.84210526  4.31578947  4.78947368  5.26315789  5.73684211  6.21052632\n",
      "  6.68421053  7.15789474  7.63157895  8.10526316  8.57894737  9.05263158\n",
      "  9.52631579 10.        ]\n"
     ]
    }
   ],
   "source": [
    "w= np.linspace(1, 10 , 20) # start, end, equally-spaced-points incl. start and end\n",
    "print(w)"
   ]
  },
  {
   "cell_type": "markdown",
   "metadata": {},
   "source": [
    "### Array Slicing ###"
   ]
  },
  {
   "cell_type": "code",
   "execution_count": 9,
   "metadata": {},
   "outputs": [
    {
     "name": "stdout",
     "output_type": "stream",
     "text": [
      "[0 1 2 3 4 5 6 7 8 9]\n",
      "[2 3 4 5 6]\n"
     ]
    }
   ],
   "source": [
    "x= np.arange(0, 10)\n",
    "print (x)\n",
    "print (x[2:7])  # sliced..same as regular python"
   ]
  },
  {
   "cell_type": "markdown",
   "metadata": {},
   "source": [
    "### Reshaping Arrays"
   ]
  },
  {
   "cell_type": "code",
   "execution_count": 17,
   "metadata": {},
   "outputs": [
    {
     "name": "stdout",
     "output_type": "stream",
     "text": [
      "[[[ 0  1  2]\n",
      "  [ 3  4  5]\n",
      "  [ 6  7  8]]\n",
      "\n",
      " [[ 9 10 11]\n",
      "  [12 13 14]\n",
      "  [15 16 17]]\n",
      "\n",
      " [[18 19 20]\n",
      "  [21 22 23]\n",
      "  [24 25 26]]]\n",
      "-----\n",
      "[[ 0  1  2]\n",
      " [ 3  4  5]\n",
      " [ 6  7  8]\n",
      " [ 9 10 11]\n",
      " [12 13 14]\n",
      " [15 16 17]\n",
      " [18 19 20]\n",
      " [21 22 23]\n",
      " [24 25 26]]\n"
     ]
    }
   ],
   "source": [
    "x= np.arange(27)\n",
    "y= x.reshape(3,3,3)\n",
    "z= x.reshape(9, -1)  # 9 rows, flexible cols to adjust\n",
    "print(y)\n",
    "print(\"-----\")\n",
    "print(z)"
   ]
  },
  {
   "cell_type": "markdown",
   "metadata": {},
   "source": [
    "### Slicing Multidimensional Arrays ###"
   ]
  },
  {
   "cell_type": "code",
   "execution_count": 28,
   "metadata": {},
   "outputs": [
    {
     "name": "stdout",
     "output_type": "stream",
     "text": [
      "[[[ 0  1  2]\n",
      "  [ 3  4  5]\n",
      "  [ 6  7  8]]\n",
      "\n",
      " [[ 9 10 11]\n",
      "  [12 13 14]\n",
      "  [15 16 17]]\n",
      "\n",
      " [[18 19 20]\n",
      "  [21 22 23]\n",
      "  [24 25 26]]] \n",
      "========\n",
      "\n",
      "[[11]\n",
      " [14]\n",
      " [17]] \n",
      "========\n",
      "\n",
      "[[18 19 20]\n",
      " [21 22 23]\n",
      " [24 25 26]]\n"
     ]
    }
   ],
   "source": [
    "x= np.arange(27)\n",
    "y= x.reshape(3,3,3)\n",
    "print(y,\"\\n========\\n\")\n",
    "print(y[1,:3,2:3],\"\\n========\\n\")\n",
    "print(y[2, ... ])"
   ]
  },
  {
   "cell_type": "markdown",
   "metadata": {},
   "source": [
    "### Manipulate Array Shapes ###"
   ]
  },
  {
   "cell_type": "code",
   "execution_count": 46,
   "metadata": {},
   "outputs": [
    {
     "name": "stdout",
     "output_type": "stream",
     "text": [
      "[[18 19 20]\n",
      " [21 22 23]\n",
      " [24 25 26]] \n",
      "===\n",
      "\n",
      "[18 19 20 21 22 23 24 25 26]\n",
      "[18 19 20 21 22 23 24 25 26]\n"
     ]
    }
   ],
   "source": [
    "x= np.arange(27)\n",
    "y= x.reshape(3,3,3)\n",
    "y= y[-1]\n",
    "print(y,\"\\n===\\n\")\n",
    "ravelled= y.ravel()\n",
    "print(ravelled)  # gives a view of original array, changes made reflect in original\n",
    "flatten= y.flatten()\n",
    "print(flatten) # creates a new copy"
   ]
  },
  {
   "cell_type": "code",
   "execution_count": 64,
   "metadata": {},
   "outputs": [
    {
     "name": "stdout",
     "output_type": "stream",
     "text": [
      "[[0 1 2]\n",
      " [3 4 5]\n",
      " [6 7 8]] \n",
      "====\n",
      "\n",
      "Transpose:\n",
      "[[0 3 6]\n",
      " [1 4 7]\n",
      " [2 5 8]] \n",
      "\n",
      "Resize to 6x6:\n",
      "[[0 1 2 3 4 5]\n",
      " [6 7 8 0 1 2]\n",
      " [3 4 5 6 7 8]\n",
      " [0 1 2 3 4 5]\n",
      " [6 7 8 0 1 2]\n",
      " [3 4 5 6 7 8]] \n",
      "\n",
      "Zeros / Ones / Identity:\n",
      "[[0. 0. 0. 0. 0. 0.]\n",
      " [0. 0. 0. 0. 0. 0.]\n",
      " [0. 0. 0. 0. 0. 0.]]\n",
      "[[1. 1. 1. 1. 1. 1.]\n",
      " [1. 1. 1. 1. 1. 1.]\n",
      " [1. 1. 1. 1. 1. 1.]]\n",
      "[[1. 0. 0.]\n",
      " [0. 1. 0.]\n",
      " [0. 0. 1.]]\n"
     ]
    }
   ],
   "source": [
    "arr= np.arange(9)\n",
    "arr.shape= [3,3]\n",
    "print(arr, \"\\n====\\n\")\n",
    "print(\"Transpose:\")\n",
    "print(arr.T,\"\\n\") # transpose\n",
    "print(\"Resize to 6x6:\")\n",
    "print(np.resize(arr,(6,6)), \"\\n\")\n",
    "print (\"Zeros / Ones / Identity:\")\n",
    "print(np.zeros((3,6)))\n",
    "print(np.ones((3,6)))\n",
    "print(np.eye((3)))"
   ]
  }
 ],
 "metadata": {
  "kernelspec": {
   "display_name": "Python 3",
   "language": "python",
   "name": "python3"
  },
  "language_info": {
   "codemirror_mode": {
    "name": "ipython",
    "version": 3
   },
   "file_extension": ".py",
   "mimetype": "text/x-python",
   "name": "python",
   "nbconvert_exporter": "python",
   "pygments_lexer": "ipython3",
   "version": "3.7.1"
  }
 },
 "nbformat": 4,
 "nbformat_minor": 2
}
